{
 "cells": [
  {
   "cell_type": "code",
   "execution_count": 6,
   "id": "2ed6fc1d-7d1b-46bb-ae64-12b599fd63fa",
   "metadata": {},
   "outputs": [],
   "source": [
    "# Import dependencies\n",
    "import nltk"
   ]
  },
  {
   "cell_type": "code",
   "execution_count": 7,
   "id": "14b22ee2-6147-461c-80a2-788ada674eba",
   "metadata": {},
   "outputs": [],
   "source": [
    "#calculate the score of a candidate based on skills\n",
    "def calculate_score(job_requirements, candidate_skills):\n",
    "    # Calculate the number of matches between job requirements and candidate skills\n",
    "    match_count = sum(1 for word in job_requirements if word in candidate_skills)\n",
    "    return match_count"
   ]
  },
  {
   "cell_type": "code",
   "execution_count": 8,
   "id": "7698a6ef-c111-419e-bafd-06e06ef75a37",
   "metadata": {},
   "outputs": [],
   "source": [
    "# find the best candidate for the job\n",
    "def find_best_candidate(job_requirements, candidate_profiles):\n",
    "    best_candidate = None\n",
    "    best_score = 0\n",
    "    for candidate in candidate_profiles:\n",
    "        candidate_skills = candidate['skills']\n",
    "        candidate_experience = candidate['experience']\n",
    "        communication_skills = candidate['communication_skills']\n",
    "        score = calculate_score(job_requirements, candidate_skills)\n",
    "        # Adjust score based on experience\n",
    "        score += candidate_experience\n",
    "        # Adjust score based on communication skills\n",
    "        if communication_skills == 'excellent':\n",
    "            score += 2\n",
    "        elif communication_skills == 'good':\n",
    "            score += 1\n",
    "        # Check if the current candidate has a higher score than the previous best candidate\n",
    "        if score > best_score:\n",
    "            best_candidate = candidate\n",
    "            best_score = score\n",
    "    return best_candidate\n"
   ]
  },
  {
   "cell_type": "code",
   "execution_count": 9,
   "id": "24532f88-2fdc-4bf2-9637-08364b802fa9",
   "metadata": {},
   "outputs": [],
   "source": [
    "# print the best candidate for the job\n",
    "def print_candidate(candidate):\n",
    "    if candidate:\n",
    "        print(\"Best candidate for the job:\")\n",
    "        print(f\"Name: {candidate['name']}\")\n",
    "        print(f\"Skills: {', '.join(candidate['skills'])}\")\n",
    "        print(f\"Experience: {candidate['experience']} years\")\n",
    "        print(f\"Communication Skills: {candidate['communication_skills']}\")\n",
    "    else:\n",
    "        print(\"No suitable candidates found.\")\n"
   ]
  },
  {
   "cell_type": "code",
   "execution_count": 12,
   "id": "af4bc421-0c95-4d79-a1fd-09f2d06afbed",
   "metadata": {},
   "outputs": [],
   "source": [
    "def main():\n",
    "    # Get job requirements from the user\n",
    "    print(\"Enter the job requirements:\")\n",
    "    job_requirements = get_job_requirements()\n",
    "\n",
    "    # Define candidate profiles\n",
    "    candidate_profiles = [\n",
    "        {\n",
    "            'name': 'Abdul Bari',\n",
    "            'skills': ['python', 'data analysis', 'problem-solving'],\n",
    "            'experience': 7,\n",
    "            'communication_skills': 'excellent'\n",
    "        },\n",
    "        {\n",
    "            'name': 'Anurag basu',\n",
    "            'skills': ['python', 'machine learning', 'data visualization'],\n",
    "            'experience': 6,\n",
    "            'communication_skills': 'good'\n",
    "        },\n",
    "        {\n",
    "            'name': 'Dev dixit',\n",
    "            'skills': ['python', 'machine learning', 'communication skills'],\n",
    "            'experience': 2,\n",
    "            'communication_skills': 'excellent'\n",
    "        },\n",
    "        {\n",
    "            'name': 'Arjun ambati',\n",
    "            'skills': ['python', 'deep learning', 'communication skills'],\n",
    "            'experience':3 ,\n",
    "            'communication_skills': 'good'\n",
    "        }\n",
    "    ]\n",
    "    # Find the best candidate\n",
    "    best_candidate = find_best_candidate(job_requirements, candidate_profiles)\n",
    "\n",
    "    # Output the best candidate\n",
    "    print_candidate(best_candidate)"
   ]
  },
  {
   "cell_type": "code",
   "execution_count": 11,
   "id": "409bc3c5-abea-416d-bd3d-e023d44bd292",
   "metadata": {},
   "outputs": [
    {
     "name": "stdout",
     "output_type": "stream",
     "text": [
      "Enter the job requirements:\n"
     ]
    },
    {
     "name": "stdin",
     "output_type": "stream",
     "text": [
      "Enter a job requirement (or 'done' to finish):  done\n"
     ]
    },
    {
     "name": "stdout",
     "output_type": "stream",
     "text": [
      "Best candidate for the job:\n",
      "Name: Abdul Bari\n",
      "Skills: python, data analysis, problem-solving\n",
      "Experience: 7 years\n",
      "Communication Skills: excellent\n"
     ]
    }
   ],
   "source": [
    "# Function to take requirements input for the job\n",
    "def get_job_requirements():\n",
    "    job_requirements = []\n",
    "    while True:\n",
    "        requirement = input(\"Enter a job requirement (or 'done' to finish): \")\n",
    "        if requirement.lower() == 'done':\n",
    "            break\n",
    "        job_requirements.append(requirement.lower())\n",
    "    return job_requirements\n",
    "\n",
    "main()"
   ]
  },
  {
   "cell_type": "code",
   "execution_count": null,
   "id": "922556fb-627e-4a99-b4bc-758752888554",
   "metadata": {},
   "outputs": [],
   "source": []
  },
  {
   "cell_type": "code",
   "execution_count": null,
   "id": "56d20b07-5dfe-4273-91e9-c64f3712f47a",
   "metadata": {},
   "outputs": [],
   "source": []
  }
 ],
 "metadata": {
  "kernelspec": {
   "display_name": "Python 3 (ipykernel)",
   "language": "python",
   "name": "python3"
  },
  "language_info": {
   "codemirror_mode": {
    "name": "ipython",
    "version": 3
   },
   "file_extension": ".py",
   "mimetype": "text/x-python",
   "name": "python",
   "nbconvert_exporter": "python",
   "pygments_lexer": "ipython3",
   "version": "3.10.10"
  }
 },
 "nbformat": 4,
 "nbformat_minor": 5
}
